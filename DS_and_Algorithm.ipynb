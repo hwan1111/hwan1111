{
  "nbformat": 4,
  "nbformat_minor": 0,
  "metadata": {
    "colab": {
      "provenance": [],
      "authorship_tag": "ABX9TyMqNu90eaOSh69ZyBEnf4J0",
      "include_colab_link": true
    },
    "kernelspec": {
      "name": "python3",
      "display_name": "Python 3"
    },
    "language_info": {
      "name": "python"
    }
  },
  "cells": [
    {
      "cell_type": "markdown",
      "metadata": {
        "id": "view-in-github",
        "colab_type": "text"
      },
      "source": [
        "<a href=\"https://colab.research.google.com/github/hwan1111/hwan1111/blob/main/DS_and_Algorithm.ipynb\" target=\"_parent\"><img src=\"https://colab.research.google.com/assets/colab-badge.svg\" alt=\"Open In Colab\"/></a>"
      ]
    },
    {
      "cell_type": "markdown",
      "source": [
        "# 알고리즘"
      ],
      "metadata": {
        "id": "HZzr6SKRbwaO"
      }
    },
    {
      "cell_type": "markdown",
      "source": [
        "## 정렬 알고리즘"
      ],
      "metadata": {
        "id": "Zh9l1fOobz87"
      }
    },
    {
      "cell_type": "markdown",
      "source": [
        "선택 정렬 (오름차순)"
      ],
      "metadata": {
        "id": "SCQiRi4Xb4UZ"
      }
    },
    {
      "cell_type": "code",
      "execution_count": null,
      "metadata": {
        "id": "VRaWQAt5JGb1"
      },
      "outputs": [],
      "source": [
        "def selectionSort(arr):\n",
        "    for i in range(len(arr)):\n",
        "        smIndex = i\n",
        "        for j in range(i, len(arr)):\n",
        "            if arr[smIndex] > arr[j]:\n",
        "                smIndex = j\n",
        "\n",
        "        arr[smIndex], arr[i] = arr[i], arr[smIndex]\n",
        "\n",
        "    return arr"
      ]
    },
    {
      "cell_type": "markdown",
      "source": [
        "버블 정렬 (오름차순)"
      ],
      "metadata": {
        "id": "4Eh4DHCgcQ1g"
      }
    },
    {
      "cell_type": "code",
      "source": [
        "def bubbleSort(arr):\n",
        "    for i in range(len(arr)):\n",
        "        for j in range(len(arr) - 1, 0, -1):\n",
        "            if arr[j] < arr[j-1]:\n",
        "                arr[j], arr[j-1] = arr[j-1], arr[j]\n",
        "\n",
        "    return arr"
      ],
      "metadata": {
        "id": "q9vuBaSTcP0o"
      },
      "execution_count": null,
      "outputs": []
    },
    {
      "cell_type": "markdown",
      "source": [
        "수정(향상)된 버블 정렬 알고리즘 (오름차순)"
      ],
      "metadata": {
        "id": "h8CxMzubcpr-"
      }
    },
    {
      "cell_type": "code",
      "source": [
        "def betterbubbleSort(arr):\n",
        "    for i in range(lne(arr)):\n",
        "        state = True\n",
        "        for j in range(len(arr)-1, 0, -1):\n",
        "            if arr[j] < arr[j-1]:\n",
        "                arr[j], arr[j-1] = arr[j-1], arr[j]\n",
        "                state = False\n",
        "\n",
        "        if state:\n",
        "            break\n",
        "\n",
        "    return arr"
      ],
      "metadata": {
        "id": "7zmBh-6ccvJk"
      },
      "execution_count": null,
      "outputs": []
    },
    {
      "cell_type": "markdown",
      "source": [
        "삽입 정렬 (오름차순)"
      ],
      "metadata": {
        "id": "SWZdq9iHdOYn"
      }
    },
    {
      "cell_type": "code",
      "source": [
        "def insertionSort(arr):\n",
        "    for i in range(1, len(arr)):\n",
        "        temp = arr[i]\n",
        "        j = i-1\n",
        "        while j >= 0 and temp < arr[j]:\n",
        "            arr[j+1] = arr[j]\n",
        "            j -= 1\n",
        "        arr[j+1] = temp\n",
        "\n",
        "    return arr"
      ],
      "metadata": {
        "id": "aTcT7IEZdQue"
      },
      "execution_count": null,
      "outputs": []
    },
    {
      "cell_type": "markdown",
      "source": [
        "쉘 정렬 (오름차순)"
      ],
      "metadata": {
        "id": "0J-RWPeFdg3s"
      }
    },
    {
      "cell_type": "code",
      "source": [
        "def shellSort(arr):\n",
        "    interval = len(arr)\n",
        "    while interval >= 1:\n",
        "        interval //= 2\n",
        "        for i in range(interval):\n",
        "            intervalSort(arr, i, interval)\n",
        "\n",
        "    return arr\n",
        "\n",
        "# 쉘 정렬에 쓰이는 삽입 정럴: interval 간격만큼 삽입 정렬\n",
        "def intervalSort(arr, start:int, interval:int):\n",
        "    for i in range(start, len(arr), interval):\n",
        "        temp, j = arr[i], i - interval\n",
        "        while j >= 0 and temp < arr[j]:\n",
        "            arr[j+interval] = arr[j]\n",
        "            j -= interval\n",
        "\n",
        "        arr[j+interval] = temp\n",
        "\n",
        "import random\n",
        "\n",
        "# 길이가 10인 정렬되지 않은 배열 생성\n",
        "unsorted_array = [random.randint(1, 100) for _ in range(10)]\n",
        "\n",
        "print(\"정렬되지 않은 배열:\", unsorted_array)\n",
        "\n",
        "print(\"정렬된 배열: \", shellSort(unsorted_array))"
      ],
      "metadata": {
        "colab": {
          "base_uri": "https://localhost:8080/"
        },
        "id": "f9XapA2HdjPL",
        "outputId": "23f1fc10-7690-4ac8-a3da-6b56e3a21ccb"
      },
      "execution_count": null,
      "outputs": [
        {
          "output_type": "stream",
          "name": "stdout",
          "text": [
            "정렬되지 않은 배열: [82, 25, 96, 57, 53, 46, 37, 32, 2, 70]\n",
            "정렬된 배열:  [2, 25, 32, 37, 46, 53, 57, 70, 82, 96]\n"
          ]
        }
      ]
    },
    {
      "cell_type": "markdown",
      "source": [
        "퀵 정렬"
      ],
      "metadata": {
        "id": "eYMHC4DKfita"
      }
    },
    {
      "cell_type": "code",
      "source": [
        "import random\n",
        "\n",
        "def quickSort(arr):\n",
        "    if len(arr) <= 1:\n",
        "        return arr\n",
        "\n",
        "    pivot = arr[len(arr) // 2]\n",
        "    left, right = [], []\n",
        "\n",
        "    for i in range(len(arr)):\n",
        "        if i == len(arr) // 2:\n",
        "            continue\n",
        "        if arr[i] < pivot:\n",
        "            left.append(arr[i])\n",
        "        else:\n",
        "            right.append(arr[i])\n",
        "\n",
        "    return quickSort(left) + [pivot] + quickSort(right)\n",
        "\n",
        "\n",
        "# 길이가 10인 정렬되지 않은 배열 생성\n",
        "unsorted_array = [random.randint(1, 100) for _ in range(10)]\n",
        "\n",
        "print(\"정렬되지 않은 배열:\", unsorted_array)\n",
        "\n",
        "print(\"정렬된 배열: \", quickSort(unsorted_array))\n"
      ],
      "metadata": {
        "id": "XpEHIqSKeg8v",
        "colab": {
          "base_uri": "https://localhost:8080/"
        },
        "outputId": "f8c1e5d0-970f-47fc-f208-13aaf3e57485"
      },
      "execution_count": null,
      "outputs": [
        {
          "output_type": "stream",
          "name": "stdout",
          "text": [
            "정렬되지 않은 배열: [41, 44, 97, 24, 45, 23, 83, 42, 17, 31]\n",
            "정렬된 배열:  [17, 23, 24, 31, 41, 42, 44, 45, 83, 97]\n"
          ]
        }
      ]
    },
    {
      "cell_type": "markdown",
      "source": [
        "병합 정렬 (오름차순)"
      ],
      "metadata": {
        "id": "2euZElqOXxU1"
      }
    },
    {
      "cell_type": "code",
      "source": [
        "def mergeSort(arr):\n",
        "    if len(arr) > 1:\n",
        "        mid = len(arr) // 2 # 배열의 중간지점\n",
        "        left = arr[:mid]    # 배열의 왼쪽\n",
        "        right = arr[mid:]   # 배열의 오른쪽\n",
        "\n",
        "        mergeSort(left)     # 반쪽 정렬\n",
        "        mergeSort(right)    # 반쪽 정렬\n",
        "\n",
        "        i = j = k = 0\n",
        "\n",
        "        # 현재 배열을 L[]와 R[]로 복사\n",
        "        while i < len(left) and j < len(right):\n",
        "            if left[i] < right[j]:\n",
        "                arr[k] = left[i]\n",
        "                i += 1\n",
        "            else:\n",
        "                arr[k] = right[j]\n",
        "                j += 1\n",
        "            k += 1\n",
        "\n",
        "        while i < len(left):\n",
        "            arr[k] = left[i]\n",
        "            i += 1\n",
        "            k += 1\n",
        "\n",
        "        while j < len(right):\n",
        "            arr[k] = right[j]\n",
        "            j += 1\n",
        "            k += 1\n",
        "\n",
        "    return arr\n",
        "\n",
        "\n",
        "import random\n",
        "\n",
        "unsorted_array = [random.randint(1, 100) for _ in range(10)]\n",
        "\n",
        "print(f\"정렬 안된 배열: {unsorted_array}\")\n",
        "print(f\"정렬 후 배열: {mergeSort(unsorted_array)}\")"
      ],
      "metadata": {
        "colab": {
          "base_uri": "https://localhost:8080/"
        },
        "id": "gjL17NeEYcLq",
        "outputId": "aec69aab-8ed6-4738-b46c-9051a96aaf8d"
      },
      "execution_count": null,
      "outputs": [
        {
          "output_type": "stream",
          "name": "stdout",
          "text": [
            "정렬 안된 배열: [93, 84, 51, 95, 10, 95, 78, 58, 49, 35]\n",
            "정렬 후 배열: [10, 35, 49, 51, 58, 78, 84, 93, 95, 95]\n"
          ]
        }
      ]
    },
    {
      "cell_type": "markdown",
      "source": [
        "계수정렬 (오름차순)"
      ],
      "metadata": {
        "id": "RqXbBawKc3uU"
      }
    },
    {
      "cell_type": "code",
      "source": [
        "def counting_sort(arr):\n",
        "    # 최대값 찾기\n",
        "    max_element = max(arr)\n",
        "\n",
        "    # 카운트 배열 생성\n",
        "    counts = [0] * (max_element + 1)\n",
        "\n",
        "    # 각 요소의 카운트\n",
        "    for i in range(len(arr)):\n",
        "        counts[arr[i]] += 1\n",
        "\n",
        "    # 누적 카운트\n",
        "    for i in range(1, len(counts)):\n",
        "        counts[i] += counts[i - 1]\n",
        "\n",
        "    # 출력 배열 생성\n",
        "    output = [0] * len(arr)\n",
        "\n",
        "    # 정렬\n",
        "    i = len(arr) - 1\n",
        "    while i >= 0:\n",
        "        output[counts[arr[i]] - 1] = arr[i]\n",
        "        counts[arr[i]] -= 1\n",
        "        i -= 1\n",
        "\n",
        "    # 입력 배열에 결과 복사\n",
        "    for i in range(len(arr)):\n",
        "        arr[i] = output[i]\n",
        "\n",
        "    return arr\n",
        "\n",
        "\n",
        "unsorted_array = [random.randint(1, 100) for _ in range(10)]\n",
        "\n",
        "print(f\"정렬 안된 배열: {unsorted_array}\")\n",
        "print(f\"정렬 후 배열: {counting_sort(unsorted_array)}\")\n"
      ],
      "metadata": {
        "colab": {
          "base_uri": "https://localhost:8080/"
        },
        "id": "SFlUW8Y3c6Ag",
        "outputId": "4c203d53-28c3-4209-e6df-d93d5b0617e7"
      },
      "execution_count": null,
      "outputs": [
        {
          "output_type": "stream",
          "name": "stdout",
          "text": [
            "정렬 안된 배열: [4, 48, 98, 98, 5, 38, 61, 57, 29, 25]\n",
            "정렬 후 배열: [4, 5, 25, 29, 38, 48, 57, 61, 98, 98]\n"
          ]
        }
      ]
    },
    {
      "cell_type": "markdown",
      "source": [
        "## 연결 리스트"
      ],
      "metadata": {
        "id": "7KKnM1APd8UD"
      }
    },
    {
      "cell_type": "markdown",
      "source": [
        "이중연결리스트 DoubleLinkedList"
      ],
      "metadata": {
        "id": "Lx3dQyD_eAUp"
      }
    },
    {
      "cell_type": "code",
      "source": [
        "# 노드(DNode): 데이터(data), 전(prev), 후(next)\n",
        "class DNode:\n",
        "    def __init__(self, data):\n",
        "        self.data = data\n",
        "        self.prev = None\n",
        "        self.next = None\n",
        "\n",
        "# 이중 연결 리스트\n",
        "class DoubleLinkedList:\n",
        "    # 생성자\n",
        "    def __init__(self):\n",
        "        self.head = None    # 첫 번째 노드\n",
        "        self.tail = None    # 마지막 노드\n",
        "\n",
        "    # 인덱스로 노드 접근\n",
        "    def __getitem__(self, index):\n",
        "        if index < 0:\n",
        "            index = self.countDNode() + index\n",
        "            if index < 0:\n",
        "                raise IndexError(\"Index out of range\")\n",
        "\n",
        "        current_node = self.head\n",
        "        count = 0\n",
        "\n",
        "        while current_node:\n",
        "            if count == index:\n",
        "                return current_node\n",
        "            current_node = current_node.next\n",
        "            count += 1\n",
        "        raise IndexError(\"Index out of range\")\n",
        "\n",
        "    # 빈 리스트 판단 여부 메서드\n",
        "    def isEmpty(self):\n",
        "        return self.head == None\n",
        "\n",
        "    # 탐색: 노드의 총 개수(count)\n",
        "    def countDNode(self) -> int:\n",
        "        if self.isEmpty(): return 0\n",
        "        count = 0\n",
        "        current_node = self.head\n",
        "        while current_node:\n",
        "            count += 1\n",
        "            current_node = current_node.next\n",
        "\n",
        "        return count\n",
        "\n",
        "    # 탐색: 첫 번째 노드\n",
        "    def frontDNode(self):\n",
        "        if self.isEmpty(): return None\n",
        "        return self.head\n",
        "\n",
        "    # 탐색: 마지막 노드\n",
        "    def rearDNode(self):\n",
        "        if self.isEmpty(): return None\n",
        "        return self.tail\n",
        "\n",
        "    # 삽입 (인덱스 기반 접근, 데이터 기반 접근, 직접 위치 지정 기반 접근)\n",
        "    def insert(self, data, index=None, target_data=None, prev_node=None):\n",
        "        new_node = DNode(data)\n",
        "\n",
        "        # 모든 인자가 None인 경우 맨 마지막 삽입\n",
        "        if index is None and target_data is None and prev_node is None:\n",
        "            if self.head is None:\n",
        "                self.head = new_node\n",
        "                self.tail = new_node\n",
        "                return\n",
        "            else:\n",
        "                self.tail.next = new_node\n",
        "                new_node.prev = self.tail\n",
        "                self.tail = new_node\n",
        "        # index가 None이 아닌 경우 index위치에 삽입\n",
        "        elif index is not None:\n",
        "            if index < 0:\n",
        "                index = self.countDNode() + index\n",
        "                if index < 0:\n",
        "                    raise IndexError(\"Index out of range\")\n",
        "            elif index > self.countDNode():\n",
        "                raise IndexError(\"Index out of range\")\n",
        "            elif index == 0:\n",
        "                self.prepend(data)\n",
        "            elif index == self.countDNode() - 1:\n",
        "                self.insert(data)\n",
        "            else:\n",
        "                prev_node = self[index - 1]\n",
        "                self.insert(data, prev_node=prev_node)\n",
        "        # target_data가 None이 아닌 경우 해당 데이터 뒤에 삽입\n",
        "        elif target_data is not None:\n",
        "            current_node = self.head\n",
        "            while current_node:\n",
        "                if current_node.data == target_data:\n",
        "                    new_node.prev = current_node\n",
        "                    new_node.next = current_node.next\n",
        "\n",
        "                    if current_node.next is not None:\n",
        "                        current_node.next.prev = new_node\n",
        "                    else:\n",
        "                        self.tail = new_node\n",
        "\n",
        "                    current_node.next = new_node\n",
        "                    return\n",
        "                current_node = current_node.next\n",
        "            raise ValueError(\"Target data not found in the list\")\n",
        "        #prev_node가 None이 아닌 경우에는 prev_node 다음에 삽입\n",
        "        elif prev_node is not None:\n",
        "            new_node.next = prev_node.next\n",
        "            prev_node.next = new_node\n",
        "            new_node.prev = prev_node\n",
        "            if new_node.next is not None:\n",
        "                new_node.next.prev = new_node\n",
        "            else:\n",
        "                self.tail = new_node\n",
        "\n",
        "    # 삽입: 첫 번째 노드\n",
        "    def prepend(self, data):\n",
        "        new_node = DNode(data)\n",
        "\n",
        "        if self.head is None:\n",
        "            self.head = new_node\n",
        "            self.tail = new_node\n",
        "        else:\n",
        "            self.head.prev = new_node\n",
        "            new_node.next = self.head\n",
        "            self.head = new_node\n",
        "\n",
        "    # 삭제 (인덱스 기반 접근, 데이터 기반 접근, 직접 위치 지정 기반 접근)\n",
        "    def pop(self, index=None, target_data=None, node=None):\n",
        "        # 인자가 모두 None이면 맨 마지막 노드 삭제\n",
        "        if index is None and target_data is None and node is None:\n",
        "            if self.tail is None:\n",
        "                return\n",
        "            else:\n",
        "                node_to_remove = self.tail\n",
        "                if self.head == self.tail:  # 리스트에 노드가 하나만 있는 경우\n",
        "                    self.head = None\n",
        "                    self.tail = None\n",
        "                else:   # 리스트에 노드가 여러 개 있는 경우\n",
        "                    self.tail = self.tail.prev\n",
        "                    self.tail.next = None\n",
        "                node_to_remove.prev = None\n",
        "                return\n",
        "        # index가 None이 아닌 경우 해당 인덱스의 노드 삭제\n",
        "        elif index is not None:\n",
        "            if index < 0:\n",
        "                index = self.countDNode() + index\n",
        "                if index < 0:\n",
        "                    raise IndexError(\"Index out of range\")\n",
        "            elif index >= self.countDNode():\n",
        "                raise IndexError(\"Index out of range\")\n",
        "\n",
        "            node_to_remove = self[index]\n",
        "\n",
        "        # target_data가 None이 아닌 경우 해당 데이터를 가진 노드 삭제\n",
        "        elif target_data is not None:\n",
        "            current_node = self.head\n",
        "            while current_node:\n",
        "                if current_node.data == target_data:\n",
        "                    node_to_remove = current_node\n",
        "                    break\n",
        "                current_node = current_node.next\n",
        "            else:\n",
        "                raise ValueError(\"Target data not found in the list\")\n",
        "\n",
        "        # node가 None이 아닌 경우 해당 노드 삭제\n",
        "        elif node is not None:\n",
        "            node_to_remove = node\n",
        "\n",
        "        # 삭제할 노드가 리스트의 맨 앞에 있는 경우\n",
        "        if node_to_remove == self.head:\n",
        "            self.head = node_to_remove.next\n",
        "            if self.head is not None:\n",
        "                self.head.prev = None\n",
        "            else:   # 리스트에 노드가 하나밖에 없는 경우\n",
        "                self.tail = None\n",
        "        # 삭제할 노드가 리스트의 맨 끝에 있는 경우\n",
        "        elif node_to_remove == self.tail:\n",
        "            self.tail = node_to_remove.prev\n",
        "            self.tail.next = None\n",
        "        # 삭제할 노드가 리스트의 중간에 있는 경우\n",
        "        else:\n",
        "            node_to_remove.prev.next = node_to_remove.next\n",
        "            node_to_remove.next.prev = node_to_remove.prev\n",
        "\n",
        "        # 삭제된 노드의 연결을 끊는 작업\n",
        "        node_to_remove.prev = None\n",
        "        node_to_remove.next = None\n",
        "\n",
        "    # 리스트의 전체 노드 출력\n",
        "    def printDLinkedList(self):\n",
        "        if self.isEmpty():\n",
        "            return\n",
        "        current_node = self.head\n",
        "\n",
        "        while current_node:\n",
        "            if current_node != self.head:\n",
        "                print(' <<->>', end=' ')\n",
        "            print(f\"{current_node.data}\", end='')\n",
        "            current_node = current_node.next\n",
        "        print()\n",
        "\n",
        "\n",
        "dll = DoubleLinkedList()\n",
        "\n",
        "dll.insert(1)\n",
        "dll.insert(2)\n",
        "dll.insert(3)\n",
        "dll.printDLinkedList()\n",
        "print()\n",
        "dll.insert(1.5, index=1)\n",
        "dll.insert(2.5, target_data=2)\n",
        "dll.insert(3.5, prev_node=dll.tail)\n",
        "dll.prepend(-1)\n",
        "dll.printDLinkedList()\n",
        "print()\n",
        "dll.pop(node=dll.head)\n",
        "dll.pop(target_data=2.5)\n",
        "dll.pop()\n",
        "dll.pop(index=1)\n",
        "dll.printDLinkedList()"
      ],
      "metadata": {
        "colab": {
          "base_uri": "https://localhost:8080/"
        },
        "id": "nGhwyMpEPpYx",
        "outputId": "3e58b3da-2054-4062-db69-c1ed6621bb6a"
      },
      "execution_count": null,
      "outputs": [
        {
          "output_type": "stream",
          "name": "stdout",
          "text": [
            "1 <<->> 2 <<->> 3\n",
            "\n",
            "-1 <<->> 1 <<->> 1.5 <<->> 2 <<->> 2.5 <<->> 3 <<->> 3.5\n",
            "\n",
            "1 <<->> 2 <<->> 3\n"
          ]
        }
      ]
    },
    {
      "cell_type": "markdown",
      "source": [
        "단순 연결 리스트"
      ],
      "metadata": {
        "id": "R9TkycMepU0T"
      }
    },
    {
      "cell_type": "code",
      "source": [
        "class SNode:\n",
        "    def __init__(self, data):\n",
        "        self.data = data\n",
        "        self.next = None\n",
        "\n",
        "class SingleLinkedList:\n",
        "    def __init__(self):\n",
        "        self.head = None\n",
        "\n",
        "    def isEmpty(self):\n",
        "        return self.head == None\n",
        "\n",
        "    def countNode(self) -> int:\n",
        "        if self.isEmpty(): return 0\n",
        "        count = 0\n",
        "        rNode = self.head\n",
        "        while rNode:\n",
        "            count += 1\n",
        "            rNode = rNode.next\n",
        "        return count\n",
        "\n",
        "    def frontNode(self) -> SNode:\n",
        "        if self.isEmpty(): return None\n",
        "        return self.head\n",
        "\n",
        "    def rearNode(self) -> SNode:\n",
        "        if self.isEmpty(): return None\n",
        "        rNode = self.head\n",
        "        while rNode.next:\n",
        "            rNode = rNode.next\n",
        "        return rNode\n",
        "\n",
        "    def append(self, data):\n",
        "        new_node = SNode(data)\n",
        "\n",
        "        if self.head is None:\n",
        "            self.head = new_node\n",
        "        else:\n",
        "            rNode = self.head\n",
        "            while rNode.next:\n",
        "                rNode = rNode.next\n",
        "            rNode.next = new_node\n",
        "\n",
        "    def prepend(self, data):\n",
        "        new_node = SNode(data)\n",
        "\n",
        "        if self.head is None:\n",
        "            self.head = new_node\n",
        "        else:\n",
        "            new_node.next = self.head\n",
        "            self.head = new_node\n",
        "\n",
        "    def insert_after(self, data, prev_node):\n",
        "        if prev_node is None:\n",
        "            print('Previous node must be in the linked list')\n",
        "            return\n",
        "\n",
        "        new_node = SNode(data)\n",
        "        new_node.next = prev_node.next\n",
        "        prev_node.next = new_node\n",
        "\n",
        "    def remove_node(self, node):\n",
        "        if node is None:\n",
        "            return\n",
        "\n",
        "        if node == self.head:\n",
        "            self.head = node.next\n",
        "        else:\n",
        "            rNode = self.head\n",
        "            while rNode.next != node:\n",
        "                rNode = rNode.next\n",
        "            rNode.next = node.next\n",
        "\n",
        "    def print_list(self):\n",
        "        if self.isEmpty(): return\n",
        "        current_node = self.head\n",
        "\n",
        "        while current_node:\n",
        "            print(f\"{current_node.data} ->>\", end=' ')\n",
        "            current_node = current_node.next\n",
        "\n",
        "        print()\n",
        "\n",
        "    def revprint_list(self):\n",
        "        if self.isEmpty(): return\n",
        "\n",
        "        current_node = self.head\n",
        "        prev_node = None\n",
        "\n",
        "        while current_node:\n",
        "            next_node = current_node.next\n",
        "            current_node.next = prev_node\n",
        "            prev_node = current_node\n",
        "            current_node = next_node\n",
        "\n",
        "        self.head = prev_node\n",
        "\n",
        "        current_node = self.head\n",
        "        while current_node:\n",
        "            print(f\"{current_node.data} <<-\", end=' ')\n",
        "            current_node = current_node.next\n",
        "\n",
        "        print()\n",
        "\n",
        "\n",
        "sll = SingleLinkedList()\n",
        "\n",
        "sll.append(1)\n",
        "sll.append(2)\n",
        "sll.append(3)\n",
        "\n",
        "sll.prepend(0)\n",
        "sll.prepend(-1)\n",
        "\n",
        "sll.insert_after(1.5, sll.head.next)\n",
        "\n",
        "sll.print_list()\n",
        "print()\n",
        "sll.revprint_list()"
      ],
      "metadata": {
        "colab": {
          "base_uri": "https://localhost:8080/"
        },
        "id": "SqAzS9N-tyTC",
        "outputId": "679787ae-2c53-4b8b-955d-e8a06ebc7aad"
      },
      "execution_count": null,
      "outputs": [
        {
          "output_type": "stream",
          "name": "stdout",
          "text": [
            "-1 ->> 0 ->> 1.5 ->> 1 ->> 2 ->> 3 ->> \n",
            "\n",
            "3 <<- 2 <<- 1 <<- 1.5 <<- 0 <<- -1 <<- \n"
          ]
        }
      ]
    },
    {
      "cell_type": "code",
      "source": [],
      "metadata": {
        "id": "pR_EsC4lwWca"
      },
      "execution_count": null,
      "outputs": []
    }
  ]
}